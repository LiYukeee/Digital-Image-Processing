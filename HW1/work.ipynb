{
 "cells": [
  {
   "cell_type": "markdown",
   "metadata": {},
   "source": [
    "# Gamma"
   ]
  },
  {
   "cell_type": "code",
   "execution_count": 4,
   "metadata": {
    "ExecuteTime": {
     "end_time": "2025-02-17T11:54:17.902348Z",
     "start_time": "2025-02-17T11:54:17.879872Z"
    }
   },
   "outputs": [],
   "source": [
    "import cv2\n",
    "import numpy as np\n",
    "import time\n",
    "\n",
    "def GammaTransorm(image_path, output_path, gamma):\n",
    "    image = cv2.imread(image_path)\n",
    "    \n",
    "    start_time = time.time()\n",
    "    \n",
    "    image = image.astype(np.float32) / 255.0\n",
    "\n",
    "    gamma_corrected = np.power(image, gamma)\n",
    "    gamma_corrected = (gamma_corrected * 255).astype(np.uint8)\n",
    "    \n",
    "    end_time = time.time()\n",
    "    \n",
    "    cv2.imwrite(output_path, gamma_corrected)\n",
    "    \n",
    "    return (end_time - start_time) * 1000\n"
   ]
  },
  {
   "cell_type": "code",
   "execution_count": 5,
   "metadata": {
    "ExecuteTime": {
     "end_time": "2025-02-17T11:54:43.306881Z",
     "start_time": "2025-02-17T11:54:43.171857Z"
    }
   },
   "outputs": [
    {
     "name": "stdout",
     "output_type": "stream",
     "text": [
      "Average running time: 10.137085914611816 ms\n"
     ]
    }
   ],
   "source": [
    "import os\n",
    "gt_path = \"gt\"\n",
    "origin_path = \"images\"\n",
    "output_path = \"res\"\n",
    "\n",
    "repeat = 10\n",
    "time_list = []\n",
    "os.makedirs(output_path, exist_ok=True)\n",
    "for i in range(repeat):\n",
    "    for image_name in os.listdir(gt_path):\n",
    "        runtime = GammaTransorm(\n",
    "            image_path=os.path.join(origin_path, image_name), \n",
    "            output_path=os.path.join(output_path, 'gamma-'+image_name), \n",
    "            gamma=0.3\n",
    "        )\n",
    "        time_list.append(runtime)\n",
    "\n",
    "print(f\"Average running time: {sum(time_list)/len(time_list)} ms\")"
   ]
  },
  {
   "cell_type": "markdown",
   "metadata": {},
   "source": [
    "# LDR\n",
    "\n",
    "Contrast enhancement based on layered difference representation of 2D histograms"
   ]
  },
  {
   "cell_type": "code",
   "execution_count": 6,
   "metadata": {},
   "outputs": [
    {
     "name": "stdout",
     "output_type": "stream",
     "text": [
      "Average running time: 2531.8400859832764 ms\n"
     ]
    }
   ],
   "source": [
    "import os\n",
    "from CE_LDR.LDR import LDR\n",
    "\n",
    "gt_path = \"gt\"\n",
    "origin_path = \"images\"\n",
    "output_path = \"res\"\n",
    "\n",
    "repeat = 1\n",
    "time_list = []\n",
    "os.makedirs(output_path, exist_ok=True)\n",
    "for i in range(repeat):\n",
    "    for image_name in os.listdir(gt_path):\n",
    "        runtime = LDR(\n",
    "            image_path=os.path.join(origin_path, image_name),\n",
    "            output_path=os.path.join(output_path, 'ldr-'+image_name),\n",
    "            alpha=2.5\n",
    "        )\n",
    "        time_list.append(runtime)\n",
    "\n",
    "print(f\"Average running time: {sum(time_list)/len(time_list)} ms\")"
   ]
  },
  {
   "cell_type": "markdown",
   "metadata": {},
   "source": [
    "# MF\n",
    "\n",
    "A fusion-based enhancing method for weakly illuminated images"
   ]
  },
  {
   "cell_type": "code",
   "execution_count": 7,
   "metadata": {},
   "outputs": [
    {
     "name": "stdout",
     "output_type": "stream",
     "text": [
      "Average running time: 295.8043098449707 ms\n"
     ]
    }
   ],
   "source": [
    "import sys\n",
    "import os\n",
    "sys.path.append('Multi-scale_FE')\n",
    "from multi_scale_fe import MF\n",
    "\n",
    "\n",
    "gt_path = \"gt\"\n",
    "origin_path = \"images\"\n",
    "output_path = \"res\"\n",
    "\n",
    "repeat = 1\n",
    "time_list = []\n",
    "os.makedirs(output_path, exist_ok=True)\n",
    "for i in range(repeat):\n",
    "    for image_name in os.listdir(gt_path):\n",
    "        runtime = MF(\n",
    "            image_path=os.path.join(origin_path, image_name),\n",
    "            output_path=os.path.join(output_path, 'mf-'+image_name),\n",
    "            level=3\n",
    "        )\n",
    "        time_list.append(runtime)\n",
    "\n",
    "print(f\"Average running time: {sum(time_list)/len(time_list)} ms\")"
   ]
  },
  {
   "cell_type": "markdown",
   "metadata": {},
   "source": [
    "# Evaluate"
   ]
  },
  {
   "cell_type": "code",
   "execution_count": 1,
   "metadata": {},
   "outputs": [
    {
     "name": "stdout",
     "output_type": "stream",
     "text": [
      "origin \t MAE: 78.760357 \t GMSD: 0.203176 \t NIQE: 18.313542\n",
      "gamma \t MAE: 21.863418 \t GMSD: 0.083009 \t NIQE: 25.768803\n",
      "ldr \t MAE: 31.989632 \t GMSD: 0.064810 \t NIQE: 20.392044\n",
      "mf \t MAE: 27.634006 \t GMSD: 0.088221 \t NIQE: 22.601573\n",
      "\n"
     ]
    }
   ],
   "source": [
    "# matlab -batch \"run('./metrics.m')\"\n",
    "\n",
    "import subprocess\n",
    "def call_cmd_command(command):\n",
    "    process = subprocess.Popen(command, stdout=subprocess.PIPE, stderr=subprocess.PIPE, shell=True)\n",
    "    output, error = process.communicate()\n",
    "    output_str = output.decode('utf-8')\n",
    "    return output_str, error.decode('utf-8')\n",
    "\n",
    "matlab_metrics_command = \"\"\"matlab -batch \"run('./metrics.m')\"\n",
    "\"\"\"\n",
    "output = call_cmd_command(matlab_metrics_command)[0]\n",
    "print(output)\n",
    "\n",
    "\n",
    "# data = [line.split() for line in output.strip().split(\"\\n\")]\n",
    "\n",
    "# # Separating the data based on the method prefix (gamma, ldr, mf)\n",
    "# origin_data = [d for d in data if d[0].startswith(\"origin\")]\n",
    "# gamma_data = [d for d in data if d[0].startswith(\"gamma\")]\n",
    "# ldr_data = [d for d in data if d[0].startswith(\"ldr\")]\n",
    "# mf_data = [d for d in data if d[0].startswith(\"mf\")]\n",
    "\n",
    "\n",
    "# def calculate_average(data, index):\n",
    "#     return sum(float(d[index]) for d in data) / len(data)\n",
    "\n",
    "# origin_avg = [calculate_average(origin_data, i) for i in [2, 4, 6]]\n",
    "# gamma_avg = [calculate_average(gamma_data, i) for i in [2, 4, 6]]\n",
    "# ldr_avg = [calculate_average(ldr_data, i) for i in [2, 4, 6]]\n",
    "# mf_avg = [calculate_average(mf_data, i) for i in [2, 4, 6]]\n",
    "\n",
    "\n",
    "# print(f\"ORIGIN: \\t MAE: {origin_avg[0]:.3f}, \\t GMSD: {origin_avg[1]:.3f}, \\t NIQE: {origin_avg[2]:.3f}\")\n",
    "# print(f\"GAMMA:  \\t MAE: {gamma_avg[0]:.3f}, \\t GMSD: {gamma_avg[1]:.3f}, \\t NIQE: {gamma_avg[2]:.3f}\")\n",
    "# print(f\"LDR:    \\t MAE: {ldr_avg[0]:.3f}, \\t GMSD: {ldr_avg[1]:.3f}, \\t NIQE: {ldr_avg[2]:.3f}\")\n",
    "# print(f\"MF:     \\t MAE: {mf_avg[0]:.3f}, \\t GMSD: {mf_avg[1]:.3f}, \\t NIQE: {mf_avg[2]:.3f}\")\n",
    "\n"
   ]
  },
  {
   "cell_type": "markdown",
   "metadata": {},
   "source": [
    "# Image"
   ]
  },
  {
   "cell_type": "code",
   "execution_count": 7,
   "metadata": {},
   "outputs": [
    {
     "data": {
      "image/png": "[encoded data removed]",
      "text/plain": [
       "<Figure size 800x480 with 1 Axes>"
      ]
     },
     "metadata": {},
     "output_type": "display_data"
    }
   ],
   "source": [
    "import matplotlib.pyplot as plt\n",
    "\n",
    "# 数据\n",
    "data = \"\"\"1.000 \t150.103 \n",
    "2.000 \t175.102 \n",
    "3.000 \t188.302 \n",
    "4.000 \t199.003 \n",
    "5.000 \t207.405 \n",
    "6.000 \t211.869 \n",
    "7.000 \t222.902 \n",
    "8.000 \t225.607 \n",
    "9.000 \t230.000 \"\"\"\n",
    "\n",
    "lines = data.strip().split(\"\\n\")\n",
    "x = [float(line.split()[0]) for line in lines]\n",
    "y = [float(line.split()[1]) for line in lines]\n",
    "\n",
    "scale_ratio = 0.8\n",
    "plt.figure(figsize=(10 * scale_ratio, 6 * scale_ratio))\n",
    "plt.plot(x, y, marker='o')\n",
    "plt.title(\"Level and Running Time\")\n",
    "plt.xlabel(\"Level\")\n",
    "plt.ylabel(\"Running Time(ms)\")\n",
    "plt.grid(True)\n",
    "plt.savefig('res/plot.pdf', format='pdf')\n",
    "plt.show()\n"
   ]
  }
 ],
 "metadata": {
  "kernelspec": {
   "display_name": "liyuke",
   "language": "python",
   "name": "python3"
  },
  "language_info": {
   "codemirror_mode": {
    "name": "ipython",
    "version": 3
   },
   "file_extension": ".py",
   "mimetype": "text/x-python",
   "name": "python",
   "nbconvert_exporter": "python",
   "pygments_lexer": "ipython3",
   "version": "3.8.20"
  }
 },
 "nbformat": 4,
 "nbformat_minor": 2
}
